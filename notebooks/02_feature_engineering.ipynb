{
 "cells": [
  {
   "cell_type": "code",
   "execution_count": 1,
   "id": "28d683d6",
   "metadata": {},
   "outputs": [
    {
     "name": "stdout",
     "output_type": "stream",
     "text": [
      "✅ Shapes:\n",
      "X_train: (41956, 12)\n",
      "y_train: (41956,)\n"
     ]
    }
   ],
   "source": [
    "import sys\n",
    "import numpy as np\n",
    "sys.path.append('../src')\n",
    "\n",
    "from data_loader import load_airbnb_data\n",
    "from features import preprocess_data\n",
    "\n",
    "df = load_airbnb_data(\"../data/raw/listings.csv\")\n",
    "df = df[df[\"price\"] < 1000]\n",
    "df[\"log_price\"] = np.log1p(df[\"price\"])\n",
    "\n",
    "X_train, X_test, y_train, y_test, preprocessor = preprocess_data(df)\n",
    "\n",
    "print(\"✅ Shapes:\")\n",
    "print(\"X_train:\", X_train.shape)\n",
    "print(\"y_train:\", y_train.shape)\n"
   ]
  }
 ],
 "metadata": {
  "kernelspec": {
   "display_name": "venv",
   "language": "python",
   "name": "python3"
  },
  "language_info": {
   "codemirror_mode": {
    "name": "ipython",
    "version": 3
   },
   "file_extension": ".py",
   "mimetype": "text/x-python",
   "name": "python",
   "nbconvert_exporter": "python",
   "pygments_lexer": "ipython3",
   "version": "3.13.5"
  }
 },
 "nbformat": 4,
 "nbformat_minor": 5
}
